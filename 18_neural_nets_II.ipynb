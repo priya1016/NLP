{
  "cells": [
    {
      "cell_type": "markdown",
      "metadata": {
        "id": "view-in-github",
        "colab_type": "text"
      },
      "source": [
        "<a href=\"https://colab.research.google.com/github/priya1016/NLP/blob/main/18_neural_nets_II.ipynb\" target=\"_parent\"><img src=\"https://colab.research.google.com/assets/colab-badge.svg\" alt=\"Open In Colab\"/></a>"
      ]
    },
    {
      "cell_type": "markdown",
      "metadata": {
        "tags": [],
        "id": "BgKMvFgB7C_g"
      },
      "source": [
        "# Lecture 18. Neural Networks II\n",
        "\n"
      ]
    },
    {
      "cell_type": "markdown",
      "source": [],
      "metadata": {
        "id": "LqVm2ThS7Y5B"
      }
    },
    {
      "cell_type": "markdown",
      "source": [
        "# Lecture Activities \n",
        "\n",
        "Feel free to add cells to this notebook as you wish. Make sure to keep **code** and any **answers to questions** that you've written and turn in your notebook as a pdf at the end of the lecture. If you have not finished the exercises, don't worry, you can keep working on them until the end of the week.\n",
        "\n",
        "All lecture notebooks for a given week must be submitted to Gradescope by **11 pm on Sundays**.\n",
        "\n",
        "### Notebook submission\n",
        "\n",
        "Follow these steps to convert your notebook into a pdf for submission: \n",
        "1. Kernel -> Restart & Run All (clear your kernel's memory and run all cells)\n",
        "2. File -> Download As -> .html -> open in a browser -> print to pdf\n",
        "\n",
        "(The download as pdf option doesn't preserve formatting and output as nicely as taking the step \"through\" html, but will do if the above doesn't work for you.)"
      ],
      "metadata": {
        "id": "c0WpuD0_Gr0m"
      }
    },
    {
      "cell_type": "markdown",
      "source": [
        "### Priya Garg"
      ],
      "metadata": {
        "id": "4CSIm-hfNX5E"
      }
    },
    {
      "cell_type": "markdown",
      "source": [
        "\n",
        "## Task 1: Predict Word Sentiment\n",
        "\n",
        "We'll start by trying to train our neural net from last time to recognize if a word is positive or negative based on its word embedding.\n",
        "\n",
        "\n",
        "1. How many words were excluded from the train set because we didn't have vectors for them? What words were they?\n",
        "  \n",
        "  __433, mostly alphanumeric or containing special characters, all printed in task 1.1 cell__\n",
        "2. What happens to the error over time as the model runs?\n",
        "  \n",
        "  __error decreases suddenly first and then saturates__\n",
        "3. Based only on this, how well do you think that this model will perform? \n",
        "\n",
        "  __Since the error has saturated well, I expect the model to perform good__\n",
        "\n"
      ],
      "metadata": {
        "id": "wQoE3U9B8K8f"
      }
    },
    {
      "cell_type": "code",
      "execution_count": 1,
      "metadata": {
        "id": "wlZ52HkyY8En"
      },
      "outputs": [],
      "source": [
        "import numpy as np\n",
        "import matplotlib.pyplot as plt\n",
        "import random\n",
        "\n",
        "%matplotlib inline\n",
        "# seed random number generation so that you can \n",
        "# track the same numbers as each other"
      ]
    },
    {
      "cell_type": "code",
      "execution_count": 2,
      "metadata": {
        "id": "TAE8G8wgY8Eo"
      },
      "outputs": [],
      "source": [
        "# we'll get our embeddings from the gensim package\n",
        "import gensim.downloader"
      ]
    },
    {
      "cell_type": "code",
      "execution_count": 3,
      "metadata": {
        "id": "izdy-pA_Y8Ep",
        "outputId": "8536a376-41bd-49f3-f7ac-8660d55821d9",
        "colab": {
          "base_uri": "https://localhost:8080/"
        }
      },
      "outputs": [
        {
          "output_type": "stream",
          "name": "stdout",
          "text": [
            "[==================================================] 100.0% 66.0/66.0MB downloaded\n"
          ]
        }
      ],
      "source": [
        "# go get some pre-trained word embeddings with 50 dimensions\n",
        "# glove refers to a different algorithm for creating the vectors\n",
        "# the resulting vectors follow the same structure:\n",
        "# dense vectors representing words in n-dimensional space\n",
        "\n",
        "# we're using this one because it's the smallest\n",
        "# set available pre-trained from gensim\n",
        "# 66 MB\n",
        "word2vec_vectors = gensim.downloader.load('glove-wiki-gigaword-50')"
      ]
    },
    {
      "cell_type": "code",
      "execution_count": 4,
      "metadata": {
        "id": "3cRec373Y8Eq",
        "outputId": "0bcefe3e-8496-4456-c6ec-20cc7a0f4509",
        "colab": {
          "base_uri": "https://localhost:8080/"
        }
      },
      "outputs": [
        {
          "output_type": "stream",
          "name": "stdout",
          "text": [
            "[ 0.079084 -0.81504   1.7901    0.91653   0.10797  -0.55628  -0.84427\n",
            " -1.4951    0.13418   0.63627   0.35146   0.25813  -0.55029   0.51056\n",
            "  0.37409   0.12092  -1.6166    0.83653   0.14202  -0.52348   0.73453\n",
            "  0.12207  -0.49079   0.32533   0.45306  -1.585    -0.63848  -1.0053\n",
            "  0.10454  -0.42984   3.181    -0.62187   0.16819  -1.0139    0.064058\n",
            "  0.57844  -0.4556    0.73783   0.37203  -0.57722   0.66441   0.055129\n",
            "  0.037891  1.3275    0.30991   0.50697   1.2357    0.1274   -0.11434\n",
            "  0.20709 ]\n"
          ]
        }
      ],
      "source": [
        "# accessing a specific word vector\n",
        "print(word2vec_vectors['computer'])"
      ]
    },
    {
      "cell_type": "code",
      "execution_count": 48,
      "metadata": {
        "id": "CkJCbNRKY8Eq",
        "outputId": "2ca6eda1-fa27-4748-903d-4774597859f7",
        "colab": {
          "base_uri": "https://localhost:8080/"
        }
      },
      "outputs": [
        {
          "output_type": "stream",
          "name": "stdout",
          "text": [
            "num in train: 5410\n",
            "num in dev: 602\n"
          ]
        }
      ],
      "source": [
        "def load_word_list(filename: str, label: int) -> list:\n",
        "    \"\"\"\n",
        "    Loads a lexicon from a plain text file in the format of one word per line.\n",
        "    Parameters:\n",
        "    filename (str): path to file\n",
        "    label (int): label to assign the items in the file\n",
        "\n",
        "    Returns:\n",
        "    list: list of words\n",
        "    \"\"\"\n",
        "    # f = open(filename, \"r\", encoding=\"latin-1\")\n",
        "    # content = f.read()  # read all contents\n",
        "    # f.close()  # close the file when you're done\n",
        "    # lexicon = content.split('\\n')\n",
        "\n",
        "    # return lexicon\n",
        "\n",
        "    with open(filename, 'r', encoding='utf-8') as f:\n",
        "        # skip the header content\n",
        "        # for line in f:\n",
        "        #     # print((line.strip(),label))\n",
        "        #     if line.strip() == \"\":\n",
        "        #         print(\"breaking\")\n",
        "        #         break\n",
        "        # read the rest of the lines into a list\n",
        "        return [(line.strip(), label) for line in f]\n",
        "        # f.close()\n",
        "    # otherwise return an empty list\n",
        "    return []\n",
        "\n",
        "def reduplicate(lst: list, times: int = 1000) -> list:\n",
        "    \"\"\"\n",
        "    Randomly reduplicates some number of elements of a list\n",
        "    and adds them to the list as it goes. Mutator function.\n",
        "    Parameters:\n",
        "    lst (list): list of items to reduplicate\n",
        "    times (int): number of times to reduplicate. Default to 1000.\n",
        "\n",
        "    Returns:\n",
        "    None\n",
        "    \"\"\"\n",
        "    for i in range(times):\n",
        "        lst.append(lst[random.randrange(0, len(lst))])\n",
        "\n",
        "        \n",
        "# Load in word lists\n",
        "positives = load_word_list('data/positive_words.txt', 1)\n",
        "negatives = load_word_list('data/negative_words.txt', 0)\n",
        "\n",
        "# randomly re-duplicate some of the examples\n",
        "reduplicate(positives)\n",
        "reduplicate(negatives)\n",
        "\n",
        "# artifically balance the sets so we have the\n",
        "# same number of negatives and positives\n",
        "min_amt = min(len(positives), len(negatives))\n",
        "positives = positives[:min_amt]\n",
        "negatives = negatives[:min_amt]\n",
        "\n",
        "# TODO: Make a training set with 90% of the examples \n",
        "# and a dev set with 10% of the examples\n",
        "cut_off = int(min_amt*0.9)\n",
        "train = positives[:cut_off] + negatives[:cut_off]\n",
        "dev = positives[cut_off:] + negatives[cut_off:]\n",
        "\n",
        "\n",
        "print(\"num in train:\", len(train))\n",
        "print(\"num in dev:\", len(dev))"
      ]
    },
    {
      "cell_type": "code",
      "execution_count": 49,
      "metadata": {
        "id": "YVKN-G3oY8Er"
      },
      "outputs": [],
      "source": [
        "def relu(x):\n",
        "    \"\"\"\n",
        "    Apply the rectified linear function (max(0, x)) to each value in\n",
        "    an array of values.\n",
        "    Parameters:\n",
        "    x (array): array of values to apply function to\n",
        "\n",
        "    Returns:\n",
        "    numpy array of results\n",
        "    \"\"\"\n",
        "    return np.maximum(0, x)\n",
        "\n",
        "\n",
        "def relu_deriv(x):\n",
        "    \"\"\"\n",
        "    Apply the derivative of the rectified linear function to each value in\n",
        "    an array of values.\n",
        "    Parameters:\n",
        "    x (array): array of values to apply function to\n",
        "\n",
        "    Returns:\n",
        "    numpy array of results\n",
        "    \"\"\"\n",
        "    x[x<=0] = 0\n",
        "    x[x>1] = 1\n",
        "    return x\n",
        "\n",
        "def sigmoid(x):\n",
        "    \"\"\"\n",
        "    Apply the sigmoid function to each value in\n",
        "    an array of values.\n",
        "    Parameters:\n",
        "    x (array): array of values to apply function to\n",
        "\n",
        "    Returns:\n",
        "    numpy array of results\n",
        "    \"\"\"\n",
        "    return 1/(1+np.exp(-x))\n",
        "\n",
        "def sigmoid_deriv(x):\n",
        "    \"\"\"\n",
        "    Apply the derivative of the sigmoid function to each value in\n",
        "    an array of values.\n",
        "    Parameters:\n",
        "    x (array): array of values to apply function to\n",
        "\n",
        "    Returns:\n",
        "    numpy array of results\n",
        "    \"\"\"\n",
        "    return sigmoid(x) * (1 - sigmoid(x))"
      ]
    },
    {
      "cell_type": "code",
      "execution_count": 50,
      "metadata": {
        "id": "azxtsgZ4Y8Es",
        "outputId": "75f88f1c-9763-412e-df0b-e0ed948c0a88",
        "colab": {
          "base_uri": "https://localhost:8080/"
        }
      },
      "outputs": [
        {
          "output_type": "stream",
          "name": "stdout",
          "text": [
            "shape of inputs: (4977, 51)\n",
            "shape of labels: (4977, 1)\n",
            "number of excluded words:  433\n",
            "['a+', 'accessable', 'achievible', 'adorer', 'adulate', 'afordable', 'agilely', 'amiabily', 'awsome', 'beautifullly', 'believeable', 'benifits', 'better-than-expected', 'beutifully', 'brilliances', 'cashbacks', 'contrasty', 'convience', 'convienient', 'convient', 'courageousness', 'danken', 'dead-cheap', 'deginified', 'delightfulness', 'dirt-cheap', 'dotingly', 'dummy-proof', 'ecenomical', 'elate', 'elatedly', 'enrapt', 'enrapture', 'enthral', 'enviousness', 'ergonomical', 'err-free', 'exaltedly', 'exaltingly', 'examplar', 'examplary', 'excallent', 'exceled', 'excelent', 'excellant', 'excitedness', 'exellent', 'exhilarate', 'exultingly', 'eye-catch', 'eyecatch', 'fancinating', 'favorited', 'fecilitous', 'fervidly', 'fine-looking', 'first-in-class', 'futurestic', 'geekier', 'god-send', 'goood', 'gooood', 'hands-down', 'heroize', 'hotcake', 'imaculate', 'inestimably', 'ingenuously', 'inpressed', 'invaluablely', 'issue-free', 'jaw-droping', 'jollify', 'luckiness', 'marvelousness', 'merriness', 'miraculousness', 'pain-free', 'pamperedly', 'pamperedness', 'poeticize', 'preferes', 'problem-free', 'problem-solver', 'propitiously', 'prospros', 'raptureous', 'raptureously', 'recomend', 'rejoicingly', 'righten', 'rock-stars', 'shimmeringly', 'spellbind', 'spellbindingly', 'staunchness', 'stellarly', 'supurb', 'supurbly', 'thumb-up', 'titillatingly', 'trustingly', 'ultra-crisp', 'undisputably', 'upliftingly', 'user-replaceable', 'well-backlit', 'whooa', 'whoooa', 'wieldy', 'wonderous', 'wonderously', 'worth-while', 'ergonomical', 'wonderous', 'eye-catch', 'propitiously', 'upliftingly', 'dirt-cheap', 'ecenomical', 'poeticize', 'fervidly', 'pain-free', 'ergonomical', 'ecenomical', 'stellarly', 'adulate', 'excellant', 'issue-free', 'eye-catch', 'ergonomical', 'examplar', 'ecenomical', 'stellarly', 'problem-free', 'courageousness', 'delightfulness', 'ingenuously', 'accessable', 'problem-solver', 'beautifullly', 'exceled', 'staunchness', 'ecenomical', 'accessable', 'merriness', 'adulate', 'luckiness', 'raptureous', 'spellbindingly', 'shimmeringly', 'afordable', 'a+', '2-faced', '2-faces', 'abominate', 'absurdness', 'acerbate', 'achey', 'acridly', 'acridness', 'admonisher', 'admonishingly', 'adulterier', 'afflictive', 'aggrieve', 'aggrivation', 'angriness', 'anti-occupation', 'anti-proliferation', 'apathetically', 'appal', 'asininely', 'asinininity', 'asperse', 'assult', 'audaciousness', 'audiciously', 'avariciously', 'aweful', 'back-logged', 'back-wood', 'back-woods', 'backaching', 'backbite', 'backwood', 'banalize', 'bedlamite', 'befoul', 'beggarly', 'beleaguer', 'bereave', 'bid-rigging', 'bluring', 'bowdlerize', 'bragger', 'bulkyness', 'bull****', 'bull----', 'bullshyt', 'bullyingly', 'bumpping', 'burdensomely', 'calamitously', 'calumniate', 'calumniation', 'calumnious', 'calumniously', 'cataclysmal', 'cataclysmically', 'catastrophies', 'concen', 'concens', 'conscons', 'corrosions', 'corruptted', 'craftly', 'crowdedness', 'cruelness', 'cuplrit', 'd*mn', 'dastard', 'debaucher', 'defamations', 'defiler', 'degenerately', 'degradingly', 'deject', 'demolisher', 'demoralizingly', 'denunciate', 'deploringly', 'deprave', 'depravedly', 'derisiveness', 'desiccate', 'desititute', 'desolately', 'despoiler', 'despondence', 'destains', 'detestably', 'devilment', 'devilry', 'diappointed', 'dilly-dally', 'direness', 'dirts', 'disaffect', 'disaffirm', 'disagreeably', 'disapointed', 'disapointing', 'disapointment', 'discombobulate', 'discomfititure', 'discompose', 'disconsolation', 'discontentedly', 'discountenance', 'discourteously', 'discoutinous', 'disgruntle', 'disgustful', 'disgustfully', 'dishearteningly', 'dishonorablely', 'disillusions', 'dismalness', 'disoobedient', 'dispirit', 'dispiritedly', 'disquietude', 'disregardful', 'disrespectable', 'disrespectablity', 'disrespectfulness', 'dissappointed', 'dissappointing', 'dissatisfactory', 'dissatisfies', 'dissatisfy', 'dissembler', 'dissocial', 'dissonantly', 'distains', 'distastefully', 'distraughtly', 'distraughtness', 'disvalue', 'divisively', 'dizzing', 'dizzingly', 'dodgey', 'domineer', 'donside', 'douchbag', 'douchebag', 'douchebags', 'downfallen', 'downheartedly', 'dreadfulness', 'dubitable', 'dumbfound', 'egotistically', 'election-rigger', 'enervate', 'enfeeble', 'enviousness', 'exagerate', 'exagerated', 'exagerates', 'execrate', 'exorbitantance', 'expulse', 'f**k', 'fallaciously', 'fallaciousness', 'farcical-yet-provocative', 'fastuous', 'fat-cat', 'fat-cats', 'fatcat', 'fatcats', 'fatique', 'fatuity', 'fawningly', 'feeblely', 'flabbergast', 'flakieness', 'flicering', 'forebodingly', 'forgetfully', 'foully', 'fractiously', 'franticly', 'fustigate', 'gabble', 'gainsayer', 'gallingly', 'get-rich', 'gimmicked', 'gimmicking', 'gloatingly', 'god-awful', 'grumpiest', 'grumpish', 'hairloss', 'hard-liner', 'hasseling', 'hatefully', 'hatefulness', 'head-aches', 'heavyhearted', 'hestitant', 'hiliarious', 'ho-hum', 'hoodium', 'horrifys', 'hurted', 'hypocricy', 'ill-designed', 'ill-favored', 'ill-formed', 'ill-natured', 'ill-sorted', 'ill-usage', 'ill-used', 'immoderately', 'impenitent', 'importune', 'imposers', 'impossiblity', 'imprecate', 'inadverent', 'inadverently', 'inadvisably', 'inaptitude', 'incapably', 'incognizant', 'incompatability', 'incompliant', 'inconsequent', 'inconsequentially', 'inconsequently', 'inconsiderately', 'inconsistence', 'indecorum', 'indeterminably', 'indiscriminating', 'ineffectualness', 'inefficacious', 'inelegance', 'ineloquent', 'ineloquently', 'inexpertly', 'inexpiable', 'inexplainable', 'inhospitality', 'inimically', 'insociable', 'insubstantially', 'insupportably', 'insurmountably', 'intefere', 'inteferes', 'intolerablely', 'inveigle', 'invidiously', 'invidiousness', 'irately', 'irksomely', 'irksomeness', 'irksomenesses', 'irragularity', 'irrationalities', 'irrationals', 'irrecoverableness', 'irrecoverablenesses', 'irrecoverably', 'irreformable', 'irreplacible', 'irretating', 'jealousness', 'jeeringly', 'job-killing', 'judder', 'judders', 'jutter', 'jutters', 'laggy', 'layoff-happy', 'letch']\n"
          ]
        }
      ],
      "source": [
        "#Task 1.1\n",
        "\n",
        "# input should be in the format\n",
        "def create_input_array(examples: list, word_vectors: gensim.models.keyedvectors.Word2VecKeyedVectors) -> np.array:\n",
        "    \"\"\"\n",
        "    Convert examples to input and label arrays\n",
        "    Parameters:\n",
        "    examples (list): list of (word, label) tuples\n",
        "    word_vectors (gensim.models.keyedvectors.Word2VecKeyedVectors): dense word vectors to match with words\n",
        "\n",
        "    Returns:\n",
        "    numpy array of inputs, numpy array of corresponding labels\n",
        "    \"\"\"\n",
        "    labels = []\n",
        "    X = []\n",
        "    exclusions = []\n",
        "    for ex in examples:\n",
        "        word = ex[0]\n",
        "        label = ex[1]\n",
        "        # ignore words that we don't have vectors for\n",
        "        if word in word_vectors:\n",
        "            X.append(np.append(word_vectors[word], [1]))  # add in the bias term\n",
        "            labels.append(label)\n",
        "        else:\n",
        "            exclusions.append(word)\n",
        "\n",
        "    return np.array(X, dtype=np.float128), np.array([labels]).T, exclusions\n",
        "\n",
        "X, y, exclusions = create_input_array(train, word2vec_vectors)\n",
        "print(\"shape of inputs:\", X.shape)\n",
        "print(\"shape of labels:\", y.shape)\n",
        "print(\"number of excluded words: \", len(exclusions))\n",
        "print(exclusions)"
      ]
    },
    {
      "cell_type": "code",
      "execution_count": 51,
      "metadata": {
        "id": "Ipndh3U-Y8Et"
      },
      "outputs": [],
      "source": [
        "# hyper parameters\n",
        "# feel free to play with these!\n",
        "hidden_units = 20\n",
        "num_epochs = 500"
      ]
    },
    {
      "cell_type": "code",
      "execution_count": 52,
      "metadata": {
        "id": "JwnDeRCNY8Et",
        "outputId": "73c00f57-f28b-4e07-c142-9b3d3bf56c7d",
        "colab": {
          "base_uri": "https://localhost:8080/"
        }
      },
      "outputs": [
        {
          "output_type": "stream",
          "name": "stdout",
          "text": [
            "W: (51, 20)\n",
            "U: (20, 1)\n"
          ]
        }
      ],
      "source": [
        "# This is the same as the lecture 15 code\n",
        "\n",
        "input_features = X.shape[1]\n",
        "# initialize weights randomly with mean 0 and range [-1, 1]\n",
        "W_dim = (input_features, hidden_units)\n",
        "\n",
        "# you'll need to use W_dim and U_dim to produce the\n",
        "# correct number of random numbers\n",
        "W = np.array(2 * np.random.random(W_dim) - 1, dtype=np.float128)\n",
        "# note that we are doing binary classification, \n",
        "# so the second dimension here is 1 \n",
        "# (corresponding to one output unit)\n",
        "U_dim = (hidden_units, 1)\n",
        "U = np.array(2 * np.random.random(U_dim) - 1, dtype=np.float128)\n",
        "\n",
        "# make sure these numbers make sense\n",
        "print(\"W:\", W.shape)\n",
        "print(\"U:\", U.shape)"
      ]
    },
    {
      "cell_type": "code",
      "execution_count": 53,
      "metadata": {
        "id": "w8rnPgMgY8Eu",
        "outputId": "4dbd8726-2f15-4bbf-b9f6-6484214373fd",
        "colab": {
          "base_uri": "https://localhost:8080/",
          "height": 283
        }
      },
      "outputs": [
        {
          "output_type": "stream",
          "name": "stderr",
          "text": [
            "/usr/local/lib/python3.7/dist-packages/ipykernel_launcher.py:38: RuntimeWarning: overflow encountered in exp\n"
          ]
        },
        {
          "output_type": "display_data",
          "data": {
            "text/plain": [
              "<Figure size 432x288 with 1 Axes>"
            ],
            "image/png": "[encoded data removed]"
          },
          "metadata": {
            "needs_background": "light"
          }
        }
      ],
      "source": [
        "# Task 1.2 and 1.3\n",
        "\n",
        "inputs = X\n",
        "\n",
        "errors = []\n",
        "for i in range(num_epochs):\n",
        "    # forward propagation—sigmoid, relu, tanh, etc\n",
        "    h = relu(np.dot(inputs,W))\n",
        "    \n",
        "    # always sigmoid—classification\n",
        "    y_hat = sigmoid(np.dot(h,U))\n",
        "\n",
        "    # print(y.shape)\n",
        "    # print(y_hat.shape)\n",
        "    # print(type(y[0]))\n",
        "    # print(type(y_hat[0]))\n",
        "    # how much did we miss?\n",
        "    layer2_error = y - y_hat\n",
        "    \n",
        "    # what happens to our error as we go through epochs?\n",
        "    errors.append(sum(np.abs(layer2_error)))\n",
        "    \n",
        "    # this is telling us how much to move\n",
        "    # our weights and in what direction\n",
        "    # use the corresponding derivative to the non-linearity used above\n",
        "    layer2_delta = layer2_error * sigmoid_deriv(y_hat)\n",
        "\n",
        "    # how much did each L1 value contribute to \n",
        "    # the L2 error (according to the weights)?\n",
        "\n",
        "    layer1_error = layer2_delta.dot(U.T)\n",
        "    \n",
        "    # this is telling us how much to move\n",
        "    # our weights and in what direction\n",
        "    layer1_delta = layer1_error * relu_deriv(h)\n",
        "\n",
        "    U += h.T.dot(layer2_delta)\n",
        "    W += inputs.T.dot(layer1_delta)\n",
        "    \n",
        "plt.plot(range(num_epochs), errors)\n",
        "plt.show()"
      ]
    },
    {
      "cell_type": "code",
      "execution_count": 54,
      "metadata": {
        "id": "D-GGRJBnY8Ev"
      },
      "outputs": [],
      "source": [
        "def accuracy(y, y_hat):\n",
        "    \"\"\"\n",
        "    Measure the accuracy of our model, print the results.\n",
        "    Parameters:\n",
        "    y (array): true labels\n",
        "    y (array): model estimates\n",
        "    Returns:\n",
        "    None\n",
        "    \"\"\"\n",
        "    count = 0\n",
        "    for i in range(len(y)):\n",
        "        guess = 1 if y_hat[i] > 0.5 else 0\n",
        "        if guess == y[i]:\n",
        "            count += 1\n",
        "    print(\"Accuracy:\", count / y.shape[0])"
      ]
    },
    {
      "cell_type": "code",
      "execution_count": 56,
      "metadata": {
        "id": "6sLdVcacY8Ev",
        "outputId": "760f0bf8-77b2-47dd-ff48-00f415211a40",
        "colab": {
          "base_uri": "https://localhost:8080/"
        }
      },
      "outputs": [
        {
          "output_type": "stream",
          "name": "stdout",
          "text": [
            "Output After Training:\n",
            "Accuracy: 0.5469026548672566\n"
          ]
        },
        {
          "output_type": "stream",
          "name": "stderr",
          "text": [
            "/usr/local/lib/python3.7/dist-packages/ipykernel_launcher.py:38: RuntimeWarning: overflow encountered in exp\n"
          ]
        }
      ],
      "source": [
        "print(\"Output After Training:\")\n",
        "# these are the same as the inputs that we trained this net on\n",
        "X_dev, y_dev,excl_test = create_input_array(dev, word2vec_vectors)\n",
        "\n",
        "# assign labels to the test data\n",
        "h = sigmoid(np.dot(X_dev,W))\n",
        "y_hat = sigmoid(np.dot(h,U))\n",
        "\n",
        "# These should match with each other\n",
        "accuracy(y_dev, y_hat)"
      ]
    },
    {
      "cell_type": "markdown",
      "source": [
        "\n",
        "\n",
        "## Task 2: Predict Word Sentiment with Keras\n",
        "\n",
        "Now, we'll use some NN libraries that can handle numbers with lots of decimal points much better to see what happens with this task.\n",
        "\n",
        "Installation of component libraries (via `pip3`):\n",
        "\n",
        "```\n",
        "pip3 install tensorflow\n",
        "sudo pip3 install keras\n",
        "```\n",
        "\n",
        "\n",
        "1. How well did your model do? Theories about any differences that you saw with the two models?\n",
        "\n",
        "__The NN model (acc= ~89%) performed much better than previous model (acc= ~55%). Adding Dense layer is helpful as it captures the hidden context more.__"
      ],
      "metadata": {
        "id": "IQcLJ9WrqDE0"
      }
    },
    {
      "cell_type": "code",
      "execution_count": 57,
      "metadata": {
        "id": "Bq7lTvKAY8Ex"
      },
      "outputs": [],
      "source": [
        "from keras.models import Sequential\n",
        "from keras.layers import Dense"
      ]
    },
    {
      "cell_type": "code",
      "execution_count": 61,
      "metadata": {
        "id": "0WHQs3z0Y8Ey",
        "outputId": "a5cd367b-8c58-489d-bd39-7446bdc7ab00",
        "colab": {
          "base_uri": "https://localhost:8080/"
        }
      },
      "outputs": [
        {
          "output_type": "execute_result",
          "data": {
            "text/plain": [
              "<keras.callbacks.History at 0x7f286cc1f090>"
            ]
          },
          "metadata": {},
          "execution_count": 61
        }
      ],
      "source": [
        "# set up the basis for a feed forward network\n",
        "model = Sequential()\n",
        "# hidden layer -- same number of hidden units as above\n",
        "model.add(Dense(units=hidden_units, activation='relu', input_dim=X.shape[1]))\n",
        "# output layer\n",
        "model.add(Dense(units=1, activation='sigmoid'))\n",
        "\n",
        "# configure the learning process\n",
        "model.compile(loss='binary_crossentropy',\n",
        "              optimizer='sgd',\n",
        "              metrics=['accuracy'])\n",
        "\n",
        "\n",
        "model.fit(X, y, epochs=num_epochs, verbose=0)"
      ]
    },
    {
      "cell_type": "code",
      "execution_count": 62,
      "metadata": {
        "id": "7O63Sx4nY8Ey",
        "outputId": "7f896469-4121-4a97-e67b-a63e372a59e8",
        "colab": {
          "base_uri": "https://localhost:8080/"
        }
      },
      "outputs": [
        {
          "output_type": "stream",
          "name": "stdout",
          "text": [
            "18/18 [==============================] - 0s 2ms/step\n",
            "Accuracy: 0.8902654867256637\n"
          ]
        }
      ],
      "source": [
        "#Task 2.1\n",
        "\n",
        "y_hat = model.predict(X_dev)\n",
        "\n",
        "accuracy(y_dev, y_hat)"
      ]
    },
    {
      "cell_type": "code",
      "source": [],
      "metadata": {
        "id": "ijA249qLqBUO"
      },
      "execution_count": null,
      "outputs": []
    }
  ],
  "metadata": {
    "kernelspec": {
      "display_name": "Python 3 (ipykernel)",
      "language": "python",
      "name": "python3"
    },
    "language_info": {
      "codemirror_mode": {
        "name": "ipython",
        "version": 3
      },
      "file_extension": ".py",
      "mimetype": "text/x-python",
      "name": "python",
      "nbconvert_exporter": "python",
      "pygments_lexer": "ipython3",
      "version": "3.9.10"
    },
    "vscode": {
      "interpreter": {
        "hash": "40d3a090f54c6569ab1632332b64b2c03c39dcf918b08424e98f38b5ae0af88f"
      }
    },
    "colab": {
      "provenance": [],
      "include_colab_link": true
    }
  },
  "nbformat": 4,
  "nbformat_minor": 0
}